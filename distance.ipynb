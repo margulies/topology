{
 "metadata": {
  "name": ""
 },
 "nbformat": 3,
 "nbformat_minor": 0,
 "worksheets": [
  {
   "cells": [
    {
     "cell_type": "code",
     "collapsed": false,
     "input": [
      "import os\n",
      "import subprocess\n",
      "import numpy as np\n",
      "import networkx as nx\n",
      "import multiprocessing\n",
      "from nibabel import freesurfer as nfs\n",
      "import matplotlib.pyplot as plt\n",
      "from surfer import io, Brain\n",
      "from IPython.core.display import Image \n",
      "import time\n",
      "from joblib import Parallel, delayed\n",
      "\n",
      "# Load data\n",
      "\n",
      "def isNumber(testString):\n",
      "    '''\n",
      "    A method to check if a string can be converted to a number\n",
      "    Not my creation, took it from http://stackoverflow.com/\n",
      "    '''\n",
      "    try:\n",
      "        float(testString)\n",
      "        return True\n",
      "    except ValueError:\n",
      "        return False\n",
      "\n",
      "def loadSurface(pathToSurface):\n",
      "    '''\n",
      "    This method loads the surface from a mgh file and returns it. Pretty simple\n",
      "    stuff\n",
      "    '''\n",
      "    print('Loading %s' % (pathToSurface))\n",
      "    surface = nfs.read_geometry(pathToSurface)\n",
      "    return surface\n",
      "\n",
      "def loadLabel(pathToLabel, drop=2):\n",
      "    '''\n",
      "    load the label text file\n",
      "    '''\n",
      "    f = open(pathToLabel, 'rb')\n",
      "    for i in xrange(drop):\n",
      "        f.readline()\n",
      "    lines = f.readlines()\n",
      "    f.close()\n",
      "\n",
      "    vertices = []\n",
      "    for line in lines:\n",
      "        useLine = line.strip().split()\n",
      "        if isNumber(useLine[0]):\n",
      "            vertices.append(float(useLine[0]))\n",
      "\n",
      "    return lines, vertices\n",
      "\n",
      "\n",
      "# Graph computations\n",
      "def buildGraphOld(surface, vertices, weighted=True):\n",
      "    '''\n",
      "    This method generates the graph by generating edges between known nodes\n",
      "    and weighting them by their distance\n",
      "    '''\n",
      "    numberVertices = len(surface[0])\n",
      "    vertexLocations = surface[0]\n",
      "    numberTriangles = len(surface[1])\n",
      "    vertexTriangles = surface[1]\n",
      "\n",
      "    # Generate the (empty) Graph\n",
      "    graph = nx.Graph()\n",
      "\n",
      "    # Loop through all the triangles, this is going to include redundant\n",
      "    # edges but we don't care\n",
      "    for triangle in vertexTriangles:\n",
      "        # get the vertices that make up the triangle\n",
      "        vertex1 = triangle[0]\n",
      "        vertex2 = triangle[1]\n",
      "        vertex3 = triangle[2]\n",
      "        if triangle[0] in vertices:\n",
      "            if triangle[1] in vertices:\n",
      "                if triangle[2] in vertices:\n",
      "          #          graph.add_edge(triangle[0], triangle[1], weight=np.sqrt(np.sum(np.square(vertexLocations[triangle[0]]-vertexLocations[triangle[1]]))))\n",
      "          #          graph.add_edge(triangle[0], triangle[2], weight=np.sqrt(np.sum(np.square(vertexLocations[triangle[0]]-vertexLocations[triangle[2]]))))\n",
      "          #          graph.add_edge(triangle[1], triangle[2], weight=np.sqrt(np.sum(np.square(vertexLocations[triangle[1]]-vertexLocations[triangle[2]]))))\n",
      "       \n",
      "         #           if weighted:\n",
      "                        # get the distances\n",
      "                    distance12 = computeDistance(vertexLocations, vertex1, vertex2)\n",
      "                    distance13 = computeDistance(vertexLocations, vertex1, vertex3)\n",
      "                    distance23 = computeDistance(vertexLocations, vertex2, vertex3)\n",
      "     #           else:\n",
      "     #               distance12, distance13, distance23 = (1, 1, 1)\n",
      "        \n",
      "                 \n",
      "                # and generate the edges\n",
      "                    graph.add_edge(vertex1, vertex2, weight=distance12)\n",
      "                    graph.add_edge(vertex1, vertex3, weight=distance13)\n",
      "                    graph.add_edge(vertex2, vertex3, weight=distance23)\n",
      "    \n",
      "    \n",
      "    return graph, numberVertices\n",
      "\n",
      "def buildGraph(surf, vertices, weighted=True):\n",
      "    '''\n",
      "    This method generates the graph by generating edges between known nodes\n",
      "    and weighting them by their distance\n",
      "    '''\n",
      "    numberVertices = len(surf[0])\n",
      "    vertexLocations = surf[0]\n",
      "    numberTriangles = len(surf[1])\n",
      "    vertexTriangles = surf[1]\n",
      "\n",
      "    # Generate the (empty) Graph\n",
      "    graph = nx.Graph()\n",
      "\n",
      "    # Loop through all the triangles, this is going to include redundant\n",
      "    # edges but we don't care\n",
      "    \n",
      "    graph.add_edge(vertexTriangles[:,0], vertexTriangles[:,1], weight=np.sqrt(np.sum(np.square(vertexLocations[vertexTriangles[:,0]]-vertexLocations[vertexTriangles[:,1]]))))\n",
      "    graph.add_edge(vertexTriangles[:,0], vertexTriangles[:,2], weight=np.sqrt(np.sum(np.square(vertexLocations[vertexTriangles[:,0]]-vertexLocations[vertexTriangles[:,2]]))))\n",
      "    graph.add_edge(vertexTriangles[:,1], vertexTriangles[:,2], weight=np.sqrt(np.sum(np.square(vertexLocations[vertexTriangles[:,1]]-vertexLocations[vertexTriangles[:,2]]))))\n",
      "    \n",
      "    for triangle in vertexTriangles:\n",
      "        # get the vertices that make up the triangle\n",
      "        #vertex1 = triangle[0]\n",
      "        #vertex2 = triangle[1]\n",
      "        #vertex3 = triangle[2]\n",
      "        if triangle[0] in vertices:\n",
      "            if triangle[1] in vertices:\n",
      "                if triangle[2] in vertices:\n",
      "                    graph.add_edge(triangle[0], triangle[1], weight=np.sqrt(np.sum(np.square(vertexLocations[triangle[0]]-vertexLocations[triangle[1]]))))\n",
      "                    graph.add_edge(triangle[0], triangle[2], weight=np.sqrt(np.sum(np.square(vertexLocations[triangle[0]]-vertexLocations[triangle[2]]))))\n",
      "                    graph.add_edge(triangle[1], triangle[2], weight=np.sqrt(np.sum(np.square(vertexLocations[triangle[1]]-vertexLocations[triangle[2]]))))\n",
      "       \n",
      "         #           if weighted:\n",
      "                        # get the distances\n",
      "         #               distance12 = computeDistance(vertexLocations, vertex1, vertex2)\n",
      "         #               distance13 = computeDistance(vertexLocations, vertex1, vertex3)\n",
      "         #               distance23 = computeDistance(vertexLocations, vertex2, vertex3)\n",
      "         #           else:\n",
      "         #               distance12, distance13, distance23 = (1, 1, 1)\n",
      "            \n",
      "                     \n",
      "                    # and generate the edges\n",
      "         #           graph.add_edge(vertex1, vertex2, weight=distance12)\n",
      "         #           graph.add_edge(vertex1, vertex3, weight=distance13)\n",
      "         #           graph.add_edge(vertex2, vertex3, weight=distance23)\n",
      "        \n",
      "    \n",
      "    return graph, numberVertices\n",
      "\n",
      "def computeDistance(vertexLocations, vertex1, vertex2):\n",
      "    '''\n",
      "    Method computes the distance between two vertices given that their\n",
      "    volumetric coordinates are given in a list that is strictly ordered by\n",
      "    vertex ID\n",
      "\n",
      "    ____\n",
      "    usage: computeDistance(vertexLocations, vertex1, vertex2)\n",
      "    ----\n",
      "    '''\n",
      "    vertex1Loc = vertexLocations[vertex1]\n",
      "    vertex2Loc = vertexLocations[vertex2]\n",
      "    offset = vertex1Loc - vertex2Loc\n",
      "    distance = np.sqrt(np.sum(np.square(offset)))\n",
      "\n",
      "    return distance\n",
      "\n",
      "def makeFullMatrix(vertices, surf, distMask):\n",
      "    '''\n",
      "    Take masked graph and recreate full size matrix\n",
      "    '''\n",
      "    mask = np.sort([int(l) for l in vertices])\n",
      "    dist = np.zeros(shape=(len(surf[0]),len(surf[0])))\n",
      "    for i in range(0,len(mask)):\n",
      "        line = dist[mask[i]]\n",
      "        line[mask] = distMask[i]\n",
      "        dist[mask[i]] = line\n",
      "    \n",
      "    return dist\n",
      "\n",
      "def distCalc(fsdir, subject_id, hemi):\n",
      "    # start_time = time.time()\n",
      "    surf = loadSurface(os.path.join(fsdir, subject_id, 'surf', hemi + '.pial'))\n",
      "    lines, vertices = loadLabel(os.path.join(fsdir, subject_id, 'label', hemi + '.cortex.label'), drop=2)\n",
      "    G, numberVertices = buildGraph(surf, vertices, weighted=True)\n",
      "    distMask = nx.floyd_warshall_numpy(G,nodelist=None)\n",
      "    dist = makeFullMatrix(vertices, surf, distMask)\n",
      "    # print time.time() - start_time, \"seconds\"\n",
      "    \n",
      "    return dist\n",
      "\n",
      "# Visualization of results\n",
      "\n",
      "def plotMatrix(matrix):\n",
      "    plt.imshow(matrix)\n",
      "    plt.show()\n",
      "\n",
      "def vizBrain(data, subject_id='fsaverage3', hemi='lh', surface='inflated', filename='brain.png'):\n",
      "    brain = Brain(subject_id, hemi, surface)\n",
      "    brain.add_data(data, 0, data.max(), colormap=\"hot\", alpha=0.7)\n",
      "    brain.save_montage(filename, order=['lat', 'med'], orientation='h', border_size=10)\n"
     ],
     "language": "python",
     "metadata": {},
     "outputs": [],
     "prompt_number": 8
    },
    {
     "cell_type": "code",
     "collapsed": false,
     "input": [
      "# Set variables:\n",
      "fsdir = '/a/software/freesurfer/currentversion/amd64/2.15/subjects'\n",
      "#fsdir = '/scr/kalifornien1/data/nki_enhanced'\n",
      "subject_id = 'fsaverage3' # sys.argv[0]\n",
      "hemi = 'lh' # sys.argv[1]\n",
      "# Run:\n",
      "#start_time = time.time()\n",
      "#dist = distCalc(fsdir, subject_id, hemi)\n",
      "#print time.time() - start_time, \"seconds\"\n",
      "# save, loop through subjects and hemispheres\n",
      "#np.save('/scr/litauen1/topology/' + subject_id + '.' + hemi + '.npy', dist)"
     ],
     "language": "python",
     "metadata": {},
     "outputs": [],
     "prompt_number": 9
    },
    {
     "cell_type": "code",
     "collapsed": false,
     "input": [
      "subject_id = 'fsaverage3' \n",
      "surf = loadSurface(os.path.join(fsdir, subject_id, 'surf', hemi + '.pial'))\n",
      "#lines, vertices = loadLabel(os.path.join(fsdir, subject_id, 'label', hemi + '.cortex.label'), drop=2)\n",
      "#H, numberVertices = buildGraph(surf, vertices, weighted=True)\n",
      "\n",
      "numberVertices = len(surf[0])\n",
      "vertexLocations = surf[0]\n",
      "numberTriangles = len(surf[1])\n",
      "vertexTriangles = surf[1]\n",
      "\n",
      "# Generate the (empty) Graph\n",
      "graph = nx.Graph()\n",
      "\n",
      "# Loop through all the triangles, this is going to include redundant\n",
      "# edges but we don't care\n",
      "#vertexTriangles[:,0]\n",
      "#np.sqrt(np.sum(np.square(vertexLocations[vertexTriangles[:,0]]-vertexLocations[vertexTriangles[:,1]]),axis=1))\n",
      "#weight=np.sqrt(np.sum(np.square(vertexLocations[vertexTriangles[:,0]]-vertexLocations[vertexTriangles[:,1]])))\n",
      "#print(weight)\n",
      "\n",
      "#sets = [0,1];[0,2];[1,2]\n",
      "#for i in range(0,2):\n",
      "    #weight = (np.sqrt(np.sum(np.square(vertexLocations[vertexTriangles[:,sets[i,0]]]-vertexLocations[vertexTriangles[:,sets[i,1]]]),axis=1)))\n",
      "\n",
      "#sets(0,0)\n",
      "\n",
      "#shape(vertexTriangles[:,0])\n",
      "#graph.add_edge(vertexTriangles[:,0], vertexTriangles[:,1], weight=np.sqrt(np.sum(np.square(vertexLocations[vertexTriangles[:,0]]-vertexLocations[vertexTriangles[:,1]]),axis=1)))\n",
      "#graph.add_edge(vertexTriangles[:,0], vertexTriangles[:,2], weight=np.sqrt(np.sum(np.square(vertexLocations[vertexTriangles[:,0]]-vertexLocations[vertexTriangles[:,2]]),axis=1)))\n",
      "#graph.add_edge(vertexTriangles[:,1], vertexTriangles[:,2], weight=np.sqrt(np.sum(np.square(vertexLocations[vertexTriangles[:,1]]-vertexLocations[vertexTriangles[:,2]]),axis=1)))\n",
      "\n",
      "\n",
      "def runIt(vert):\n",
      "    out = nx.single_source_dijkstra_path_length(G, vert, cutoff=None, weight= 'weight')\n",
      "    return out\n",
      "\n",
      "\n",
      "\n",
      "#distMask = nx.floyd_warshall_numpy(G,nodelist=None)\n",
      "#dist = Parallel(n_jobs=6)(delayed(nx.single_source_dijkstra_path_length)(G, i, cutoff= None, weight= 'weight') for i in vertices)\n",
      "#import multiprocessing\n",
      "#pool = multiprocessing.Pool(6)\n",
      "#dist = pool.map(nx.single_source_dijkstra_path_length(G, i, cutoff=None, weight= 'weight'), vertices)\n",
      "\n",
      "#for i in vertices:\n",
      "    #dist[i] = nx.single_source_dijkstra_path_length(G, i, cutoff= None, weight= 'weight')    \n"
     ],
     "language": "python",
     "metadata": {},
     "outputs": [
      {
       "output_type": "stream",
       "stream": "stdout",
       "text": [
        "Loading /a/software/freesurfer/currentversion/amd64/2.15/subjects/fsaverage3/surf/lh.pial\n"
       ]
      }
     ],
     "prompt_number": 10
    },
    {
     "cell_type": "code",
     "collapsed": false,
     "input": [
      "Graph.add_edge?"
     ],
     "language": "python",
     "metadata": {},
     "outputs": [
      {
       "output_type": "stream",
       "stream": "stdout",
       "text": [
        "Object `Graph.add_edge` not found.\n"
       ]
      }
     ],
     "prompt_number": 5
    },
    {
     "cell_type": "code",
     "collapsed": false,
     "input": [
      "start_time = time.time()\n",
      "from multiprocessing import Pool\n",
      "from multiprocessing.dummy import Pool as ThreadPool \n",
      "pool = ThreadPool(7) # Sets the pool size to 4\n",
      "dist = []\n",
      "dist = pool.map(runIt,vertices)\n",
      "pool.close()\n",
      "pool.join()\n",
      "print time.time() - start_time, \"seconds\""
     ],
     "language": "python",
     "metadata": {},
     "outputs": [
      {
       "ename": "NameError",
       "evalue": "global name 'G' is not defined",
       "output_type": "pyerr",
       "traceback": [
        "\u001b[0;31m---------------------------------------------------------------------------\u001b[0m\n\u001b[0;31mNameError\u001b[0m                                 Traceback (most recent call last)",
        "\u001b[0;32m<ipython-input-36-0cdc978200d9>\u001b[0m in \u001b[0;36m<module>\u001b[0;34m()\u001b[0m\n\u001b[1;32m      4\u001b[0m \u001b[0mpool\u001b[0m \u001b[0;34m=\u001b[0m \u001b[0mThreadPool\u001b[0m\u001b[0;34m(\u001b[0m\u001b[0;36m7\u001b[0m\u001b[0;34m)\u001b[0m \u001b[0;31m# Sets the pool size to 4\u001b[0m\u001b[0;34m\u001b[0m\u001b[0m\n\u001b[1;32m      5\u001b[0m \u001b[0mdist\u001b[0m \u001b[0;34m=\u001b[0m \u001b[0;34m[\u001b[0m\u001b[0;34m]\u001b[0m\u001b[0;34m\u001b[0m\u001b[0m\n\u001b[0;32m----> 6\u001b[0;31m \u001b[0mdist\u001b[0m \u001b[0;34m=\u001b[0m \u001b[0mpool\u001b[0m\u001b[0;34m.\u001b[0m\u001b[0mmap\u001b[0m\u001b[0;34m(\u001b[0m\u001b[0mrunIt\u001b[0m\u001b[0;34m,\u001b[0m\u001b[0mvertices\u001b[0m\u001b[0;34m)\u001b[0m\u001b[0;34m\u001b[0m\u001b[0m\n\u001b[0m\u001b[1;32m      7\u001b[0m \u001b[0mpool\u001b[0m\u001b[0;34m.\u001b[0m\u001b[0mclose\u001b[0m\u001b[0;34m(\u001b[0m\u001b[0;34m)\u001b[0m\u001b[0;34m\u001b[0m\u001b[0m\n\u001b[1;32m      8\u001b[0m \u001b[0mpool\u001b[0m\u001b[0;34m.\u001b[0m\u001b[0mjoin\u001b[0m\u001b[0;34m(\u001b[0m\u001b[0;34m)\u001b[0m\u001b[0;34m\u001b[0m\u001b[0m\n",
        "\u001b[0;32m/usr/lib/python2.7/multiprocessing/pool.pyc\u001b[0m in \u001b[0;36mmap\u001b[0;34m(self, func, iterable, chunksize)\u001b[0m\n\u001b[1;32m    225\u001b[0m         '''\n\u001b[1;32m    226\u001b[0m         \u001b[0;32massert\u001b[0m \u001b[0mself\u001b[0m\u001b[0;34m.\u001b[0m\u001b[0m_state\u001b[0m \u001b[0;34m==\u001b[0m \u001b[0mRUN\u001b[0m\u001b[0;34m\u001b[0m\u001b[0m\n\u001b[0;32m--> 227\u001b[0;31m         \u001b[0;32mreturn\u001b[0m \u001b[0mself\u001b[0m\u001b[0;34m.\u001b[0m\u001b[0mmap_async\u001b[0m\u001b[0;34m(\u001b[0m\u001b[0mfunc\u001b[0m\u001b[0;34m,\u001b[0m \u001b[0miterable\u001b[0m\u001b[0;34m,\u001b[0m \u001b[0mchunksize\u001b[0m\u001b[0;34m)\u001b[0m\u001b[0;34m.\u001b[0m\u001b[0mget\u001b[0m\u001b[0;34m(\u001b[0m\u001b[0;34m)\u001b[0m\u001b[0;34m\u001b[0m\u001b[0m\n\u001b[0m\u001b[1;32m    228\u001b[0m \u001b[0;34m\u001b[0m\u001b[0m\n\u001b[1;32m    229\u001b[0m     \u001b[0;32mdef\u001b[0m \u001b[0mimap\u001b[0m\u001b[0;34m(\u001b[0m\u001b[0mself\u001b[0m\u001b[0;34m,\u001b[0m \u001b[0mfunc\u001b[0m\u001b[0;34m,\u001b[0m \u001b[0miterable\u001b[0m\u001b[0;34m,\u001b[0m \u001b[0mchunksize\u001b[0m\u001b[0;34m=\u001b[0m\u001b[0;36m1\u001b[0m\u001b[0;34m)\u001b[0m\u001b[0;34m:\u001b[0m\u001b[0;34m\u001b[0m\u001b[0m\n",
        "\u001b[0;32m/usr/lib/python2.7/multiprocessing/pool.pyc\u001b[0m in \u001b[0;36mget\u001b[0;34m(self, timeout)\u001b[0m\n\u001b[1;32m    526\u001b[0m             \u001b[0;32mreturn\u001b[0m \u001b[0mself\u001b[0m\u001b[0;34m.\u001b[0m\u001b[0m_value\u001b[0m\u001b[0;34m\u001b[0m\u001b[0m\n\u001b[1;32m    527\u001b[0m         \u001b[0;32melse\u001b[0m\u001b[0;34m:\u001b[0m\u001b[0;34m\u001b[0m\u001b[0m\n\u001b[0;32m--> 528\u001b[0;31m             \u001b[0;32mraise\u001b[0m \u001b[0mself\u001b[0m\u001b[0;34m.\u001b[0m\u001b[0m_value\u001b[0m\u001b[0;34m\u001b[0m\u001b[0m\n\u001b[0m\u001b[1;32m    529\u001b[0m \u001b[0;34m\u001b[0m\u001b[0m\n\u001b[1;32m    530\u001b[0m     \u001b[0;32mdef\u001b[0m \u001b[0m_set\u001b[0m\u001b[0;34m(\u001b[0m\u001b[0mself\u001b[0m\u001b[0;34m,\u001b[0m \u001b[0mi\u001b[0m\u001b[0;34m,\u001b[0m \u001b[0mobj\u001b[0m\u001b[0;34m)\u001b[0m\u001b[0;34m:\u001b[0m\u001b[0;34m\u001b[0m\u001b[0m\n",
        "\u001b[0;31mNameError\u001b[0m: global name 'G' is not defined"
       ]
      }
     ],
     "prompt_number": 36
    },
    {
     "cell_type": "code",
     "collapsed": false,
     "input": [
      "plotMatrix(dist)"
     ],
     "language": "python",
     "metadata": {},
     "outputs": [
      {
       "ename": "TypeError",
       "evalue": "Image data can not convert to float",
       "output_type": "pyerr",
       "traceback": [
        "\u001b[0;31m---------------------------------------------------------------------------\u001b[0m\n\u001b[0;31mTypeError\u001b[0m                                 Traceback (most recent call last)",
        "\u001b[0;32m<ipython-input-494-bd1c0f3d826b>\u001b[0m in \u001b[0;36m<module>\u001b[0;34m()\u001b[0m\n\u001b[0;32m----> 1\u001b[0;31m \u001b[0mplotMatrix\u001b[0m\u001b[0;34m(\u001b[0m\u001b[0mdist\u001b[0m\u001b[0;34m)\u001b[0m\u001b[0;34m\u001b[0m\u001b[0m\n\u001b[0m",
        "\u001b[0;32m<ipython-input-340-c50078f787c5>\u001b[0m in \u001b[0;36mplotMatrix\u001b[0;34m(matrix)\u001b[0m\n\u001b[1;32m    135\u001b[0m \u001b[0;34m\u001b[0m\u001b[0m\n\u001b[1;32m    136\u001b[0m \u001b[0;32mdef\u001b[0m \u001b[0mplotMatrix\u001b[0m\u001b[0;34m(\u001b[0m\u001b[0mmatrix\u001b[0m\u001b[0;34m)\u001b[0m\u001b[0;34m:\u001b[0m\u001b[0;34m\u001b[0m\u001b[0m\n\u001b[0;32m--> 137\u001b[0;31m     \u001b[0mplt\u001b[0m\u001b[0;34m.\u001b[0m\u001b[0mimshow\u001b[0m\u001b[0;34m(\u001b[0m\u001b[0mmatrix\u001b[0m\u001b[0;34m)\u001b[0m\u001b[0;34m\u001b[0m\u001b[0m\n\u001b[0m\u001b[1;32m    138\u001b[0m     \u001b[0mplt\u001b[0m\u001b[0;34m.\u001b[0m\u001b[0mshow\u001b[0m\u001b[0;34m(\u001b[0m\u001b[0;34m)\u001b[0m\u001b[0;34m\u001b[0m\u001b[0m\n\u001b[1;32m    139\u001b[0m \u001b[0;34m\u001b[0m\u001b[0m\n",
        "\u001b[0;32m/usr/lib/pymodules/python2.7/matplotlib/pyplot.pyc\u001b[0m in \u001b[0;36mimshow\u001b[0;34m(X, cmap, norm, aspect, interpolation, alpha, vmin, vmax, origin, extent, shape, filternorm, filterrad, imlim, resample, url, hold, **kwargs)\u001b[0m\n\u001b[1;32m   2375\u001b[0m         \u001b[0max\u001b[0m\u001b[0;34m.\u001b[0m\u001b[0mhold\u001b[0m\u001b[0;34m(\u001b[0m\u001b[0mhold\u001b[0m\u001b[0;34m)\u001b[0m\u001b[0;34m\u001b[0m\u001b[0m\n\u001b[1;32m   2376\u001b[0m     \u001b[0;32mtry\u001b[0m\u001b[0;34m:\u001b[0m\u001b[0;34m\u001b[0m\u001b[0m\n\u001b[0;32m-> 2377\u001b[0;31m         \u001b[0mret\u001b[0m \u001b[0;34m=\u001b[0m \u001b[0max\u001b[0m\u001b[0;34m.\u001b[0m\u001b[0mimshow\u001b[0m\u001b[0;34m(\u001b[0m\u001b[0mX\u001b[0m\u001b[0;34m,\u001b[0m \u001b[0mcmap\u001b[0m\u001b[0;34m,\u001b[0m \u001b[0mnorm\u001b[0m\u001b[0;34m,\u001b[0m \u001b[0maspect\u001b[0m\u001b[0;34m,\u001b[0m \u001b[0minterpolation\u001b[0m\u001b[0;34m,\u001b[0m \u001b[0malpha\u001b[0m\u001b[0;34m,\u001b[0m \u001b[0mvmin\u001b[0m\u001b[0;34m,\u001b[0m \u001b[0mvmax\u001b[0m\u001b[0;34m,\u001b[0m \u001b[0morigin\u001b[0m\u001b[0;34m,\u001b[0m \u001b[0mextent\u001b[0m\u001b[0;34m,\u001b[0m \u001b[0mshape\u001b[0m\u001b[0;34m,\u001b[0m \u001b[0mfilternorm\u001b[0m\u001b[0;34m,\u001b[0m \u001b[0mfilterrad\u001b[0m\u001b[0;34m,\u001b[0m \u001b[0mimlim\u001b[0m\u001b[0;34m,\u001b[0m \u001b[0mresample\u001b[0m\u001b[0;34m,\u001b[0m \u001b[0murl\u001b[0m\u001b[0;34m,\u001b[0m \u001b[0;34m**\u001b[0m\u001b[0mkwargs\u001b[0m\u001b[0;34m)\u001b[0m\u001b[0;34m\u001b[0m\u001b[0m\n\u001b[0m\u001b[1;32m   2378\u001b[0m         \u001b[0mdraw_if_interactive\u001b[0m\u001b[0;34m(\u001b[0m\u001b[0;34m)\u001b[0m\u001b[0;34m\u001b[0m\u001b[0m\n\u001b[1;32m   2379\u001b[0m     \u001b[0;32mfinally\u001b[0m\u001b[0;34m:\u001b[0m\u001b[0;34m\u001b[0m\u001b[0m\n",
        "\u001b[0;32m/usr/lib/pymodules/python2.7/matplotlib/axes.pyc\u001b[0m in \u001b[0;36mimshow\u001b[0;34m(self, X, cmap, norm, aspect, interpolation, alpha, vmin, vmax, origin, extent, shape, filternorm, filterrad, imlim, resample, url, **kwargs)\u001b[0m\n\u001b[1;32m   6794\u001b[0m                        filterrad=filterrad, resample=resample, **kwargs)\n\u001b[1;32m   6795\u001b[0m \u001b[0;34m\u001b[0m\u001b[0m\n\u001b[0;32m-> 6796\u001b[0;31m         \u001b[0mim\u001b[0m\u001b[0;34m.\u001b[0m\u001b[0mset_data\u001b[0m\u001b[0;34m(\u001b[0m\u001b[0mX\u001b[0m\u001b[0;34m)\u001b[0m\u001b[0;34m\u001b[0m\u001b[0m\n\u001b[0m\u001b[1;32m   6797\u001b[0m         \u001b[0mim\u001b[0m\u001b[0;34m.\u001b[0m\u001b[0mset_alpha\u001b[0m\u001b[0;34m(\u001b[0m\u001b[0malpha\u001b[0m\u001b[0;34m)\u001b[0m\u001b[0;34m\u001b[0m\u001b[0m\n\u001b[1;32m   6798\u001b[0m         \u001b[0mself\u001b[0m\u001b[0;34m.\u001b[0m\u001b[0m_set_artist_props\u001b[0m\u001b[0;34m(\u001b[0m\u001b[0mim\u001b[0m\u001b[0;34m)\u001b[0m\u001b[0;34m\u001b[0m\u001b[0m\n",
        "\u001b[0;32m/usr/lib/pymodules/python2.7/matplotlib/image.pyc\u001b[0m in \u001b[0;36mset_data\u001b[0;34m(self, A)\u001b[0m\n\u001b[1;32m    405\u001b[0m \u001b[0;34m\u001b[0m\u001b[0m\n\u001b[1;32m    406\u001b[0m         \u001b[0;32mif\u001b[0m \u001b[0mself\u001b[0m\u001b[0;34m.\u001b[0m\u001b[0m_A\u001b[0m\u001b[0;34m.\u001b[0m\u001b[0mdtype\u001b[0m \u001b[0;34m!=\u001b[0m \u001b[0mnp\u001b[0m\u001b[0;34m.\u001b[0m\u001b[0muint8\u001b[0m \u001b[0;32mand\u001b[0m \u001b[0;32mnot\u001b[0m \u001b[0mnp\u001b[0m\u001b[0;34m.\u001b[0m\u001b[0mcan_cast\u001b[0m\u001b[0;34m(\u001b[0m\u001b[0mself\u001b[0m\u001b[0;34m.\u001b[0m\u001b[0m_A\u001b[0m\u001b[0;34m.\u001b[0m\u001b[0mdtype\u001b[0m\u001b[0;34m,\u001b[0m \u001b[0mnp\u001b[0m\u001b[0;34m.\u001b[0m\u001b[0mfloat\u001b[0m\u001b[0;34m)\u001b[0m\u001b[0;34m:\u001b[0m\u001b[0;34m\u001b[0m\u001b[0m\n\u001b[0;32m--> 407\u001b[0;31m             \u001b[0;32mraise\u001b[0m \u001b[0mTypeError\u001b[0m\u001b[0;34m(\u001b[0m\u001b[0;34m\"Image data can not convert to float\"\u001b[0m\u001b[0;34m)\u001b[0m\u001b[0;34m\u001b[0m\u001b[0m\n\u001b[0m\u001b[1;32m    408\u001b[0m \u001b[0;34m\u001b[0m\u001b[0m\n\u001b[1;32m    409\u001b[0m         if (self._A.ndim not in (2, 3) or\n",
        "\u001b[0;31mTypeError\u001b[0m: Image data can not convert to float"
       ]
      },
      {
       "metadata": {},
       "output_type": "display_data",
       "png": "[encoded data removed]",
       "text": [
        "<matplotlib.figure.Figure at 0xc7220d0>"
       ]
      }
     ],
     "prompt_number": 494
    },
    {
     "cell_type": "code",
     "collapsed": false,
     "input": [
      "vizBrain(dist[200], subject_id='fsaverage3', hemi='lh', surface='inflated', filename='brain.png')\n",
      "Image(filename='brain.png', width=600)\n"
     ],
     "language": "python",
     "metadata": {},
     "outputs": [
      {
       "ename": "NameError",
       "evalue": "name 'vizBrain' is not defined",
       "output_type": "pyerr",
       "traceback": [
        "\u001b[0;31m---------------------------------------------------------------------------\u001b[0m\n\u001b[0;31mNameError\u001b[0m                                 Traceback (most recent call last)",
        "\u001b[0;32m<ipython-input-1-c139774cacd5>\u001b[0m in \u001b[0;36m<module>\u001b[0;34m()\u001b[0m\n\u001b[0;32m----> 1\u001b[0;31m \u001b[0mvizBrain\u001b[0m\u001b[0;34m(\u001b[0m\u001b[0mdist\u001b[0m\u001b[0;34m[\u001b[0m\u001b[0;36m200\u001b[0m\u001b[0;34m]\u001b[0m\u001b[0;34m,\u001b[0m \u001b[0msubject_id\u001b[0m\u001b[0;34m=\u001b[0m\u001b[0;34m'fsaverage3'\u001b[0m\u001b[0;34m,\u001b[0m \u001b[0mhemi\u001b[0m\u001b[0;34m=\u001b[0m\u001b[0;34m'lh'\u001b[0m\u001b[0;34m,\u001b[0m \u001b[0msurface\u001b[0m\u001b[0;34m=\u001b[0m\u001b[0;34m'inflated'\u001b[0m\u001b[0;34m,\u001b[0m \u001b[0mfilename\u001b[0m\u001b[0;34m=\u001b[0m\u001b[0;34m'brain.png'\u001b[0m\u001b[0;34m)\u001b[0m\u001b[0;34m\u001b[0m\u001b[0m\n\u001b[0m\u001b[1;32m      2\u001b[0m \u001b[0mImage\u001b[0m\u001b[0;34m(\u001b[0m\u001b[0mfilename\u001b[0m\u001b[0;34m=\u001b[0m\u001b[0;34m'brain.png'\u001b[0m\u001b[0;34m,\u001b[0m \u001b[0mwidth\u001b[0m\u001b[0;34m=\u001b[0m\u001b[0;36m600\u001b[0m\u001b[0;34m)\u001b[0m\u001b[0;34m\u001b[0m\u001b[0m\n",
        "\u001b[0;31mNameError\u001b[0m: name 'vizBrain' is not defined"
       ]
      }
     ],
     "prompt_number": 1
    },
    {
     "cell_type": "code",
     "collapsed": false,
     "input": [
      "import gdist"
     ],
     "language": "python",
     "metadata": {},
     "outputs": [],
     "prompt_number": 34
    },
    {
     "cell_type": "code",
     "collapsed": false,
     "input": [
      "src = numpy.array([1])\n",
      "gdist.compute_gdist(surf[0],surf[1], src)\n"
     ],
     "language": "python",
     "metadata": {},
     "outputs": [
      {
       "ename": "ValueError",
       "evalue": "Big-endian buffer not supported on little-endian compiler",
       "output_type": "pyerr",
       "traceback": [
        "\u001b[0;31m---------------------------------------------------------------------------\u001b[0m\n\u001b[0;31mValueError\u001b[0m                                Traceback (most recent call last)",
        "\u001b[0;32m<ipython-input-35-061675673269>\u001b[0m in \u001b[0;36m<module>\u001b[0;34m()\u001b[0m\n\u001b[1;32m      1\u001b[0m \u001b[0msrc\u001b[0m \u001b[0;34m=\u001b[0m \u001b[0mnumpy\u001b[0m\u001b[0;34m.\u001b[0m\u001b[0marray\u001b[0m\u001b[0;34m(\u001b[0m\u001b[0;34m[\u001b[0m\u001b[0;36m1\u001b[0m\u001b[0;34m]\u001b[0m\u001b[0;34m)\u001b[0m\u001b[0;34m\u001b[0m\u001b[0m\n\u001b[0;32m----> 2\u001b[0;31m \u001b[0mgdist\u001b[0m\u001b[0;34m.\u001b[0m\u001b[0mcompute_gdist\u001b[0m\u001b[0;34m(\u001b[0m\u001b[0msurf\u001b[0m\u001b[0;34m[\u001b[0m\u001b[0;36m0\u001b[0m\u001b[0;34m]\u001b[0m\u001b[0;34m,\u001b[0m\u001b[0msurf\u001b[0m\u001b[0;34m[\u001b[0m\u001b[0;36m1\u001b[0m\u001b[0;34m]\u001b[0m\u001b[0;34m,\u001b[0m \u001b[0msrc\u001b[0m\u001b[0;34m)\u001b[0m\u001b[0;34m\u001b[0m\u001b[0m\n\u001b[0m",
        "\u001b[0;32m/home/raid1/margulies/.local/lib/python2.7/site-packages/gdist.so\u001b[0m in \u001b[0;36mgdist.compute_gdist (gdist.cpp:1179)\u001b[0;34m()\u001b[0m\n",
        "\u001b[0;31mValueError\u001b[0m: Big-endian buffer not supported on little-endian compiler"
       ]
      }
     ],
     "prompt_number": 35
    },
    {
     "cell_type": "code",
     "collapsed": false,
     "input": [
      "gdist.local_gdist_matrix(surf[0],surf[1], max_distance=1)"
     ],
     "language": "python",
     "metadata": {},
     "outputs": [
      {
       "ename": "ValueError",
       "evalue": "Big-endian buffer not supported on little-endian compiler",
       "output_type": "pyerr",
       "traceback": [
        "\u001b[0;31m---------------------------------------------------------------------------\u001b[0m\n\u001b[0;31mValueError\u001b[0m                                Traceback (most recent call last)",
        "\u001b[0;32m<ipython-input-37-dbdde6068f68>\u001b[0m in \u001b[0;36m<module>\u001b[0;34m()\u001b[0m\n\u001b[0;32m----> 1\u001b[0;31m \u001b[0mgdist\u001b[0m\u001b[0;34m.\u001b[0m\u001b[0mlocal_gdist_matrix\u001b[0m\u001b[0;34m(\u001b[0m\u001b[0msurf\u001b[0m\u001b[0;34m[\u001b[0m\u001b[0;36m0\u001b[0m\u001b[0;34m]\u001b[0m\u001b[0;34m,\u001b[0m\u001b[0msurf\u001b[0m\u001b[0;34m[\u001b[0m\u001b[0;36m1\u001b[0m\u001b[0;34m]\u001b[0m\u001b[0;34m,\u001b[0m \u001b[0mmax_distance\u001b[0m\u001b[0;34m=\u001b[0m\u001b[0;36m1\u001b[0m\u001b[0;34m)\u001b[0m\u001b[0;34m\u001b[0m\u001b[0m\n\u001b[0m",
        "\u001b[0;32m/home/raid1/margulies/.local/lib/python2.7/site-packages/gdist.so\u001b[0m in \u001b[0;36mgdist.local_gdist_matrix (gdist.cpp:1912)\u001b[0;34m()\u001b[0m\n",
        "\u001b[0;31mValueError\u001b[0m: Big-endian buffer not supported on little-endian compiler"
       ]
      }
     ],
     "prompt_number": 37
    },
    {
     "cell_type": "code",
     "collapsed": false,
     "input": [],
     "language": "python",
     "metadata": {},
     "outputs": []
    }
   ],
   "metadata": {}
  }
 ]
}