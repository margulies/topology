{
 "metadata": {
  "name": ""
 },
 "nbformat": 3,
 "nbformat_minor": 0,
 "worksheets": [
  {
   "cells": [
    {
     "cell_type": "markdown",
     "metadata": {},
     "source": [
      "__Begin with converting individual-level surface to resampled space using [mri_surf2surf in nipype](http://nipy.sourceforge.net/nipype/interfaces/generated/nipype.interfaces.freesurfer.utils.html):__  \n",
      "    *(The original command is described [here](http://freesurfer.net/fswiki/mri_surf2surf))*"
     ]
    },
    {
     "cell_type": "code",
     "collapsed": false,
     "input": [
      "from nipype.interfaces.freesurfer import SurfaceTransform\n",
      "sxfm = SurfaceTransform()\n",
      "sxfm.inputs.source_file = \"pial\"\n",
      "sxfm.inputs.source_subject = \"fsaverage3\"\n",
      "sxfm.inputs.target_subject = \"fsaverage5\" # ISO might also be good\n",
      "sxfm.inputs.hemi = \"lh\"\n",
      "sxfm.inputs.args = \"--noreshape\"\n",
      "sxfm.run() \n",
      "\n",
      "# Need to check on implementing --mapmethod\n",
      "# Also, need to check on the effect of calculating distance, \n",
      "# then resampling, versus resampling first.\n",
      "# Calculating the mid-thickness between grey and white matter \n",
      "# may also be useful."
     ],
     "language": "python",
     "metadata": {},
     "outputs": []
    },
    {
     "cell_type": "code",
     "collapsed": false,
     "input": [
      "# Set up libraries:\n",
      "import os\n",
      "import subprocess\n",
      "import numpy as np\n",
      "import networkx as nx\n",
      "import multiprocessing\n",
      "from nibabel import freesurfer as nfs\n",
      "import matplotlib.pyplot as plt\n",
      "from surfer import io, Brain\n",
      "from IPython.core.display import Image \n",
      "import time\n",
      "#from joblib import Parallel, delayed"
     ],
     "language": "python",
     "metadata": {},
     "outputs": []
    },
    {
     "cell_type": "markdown",
     "metadata": {},
     "source": [
      "___Functions to read in data:___"
     ]
    },
    {
     "cell_type": "code",
     "collapsed": false,
     "input": [
      "def isNumber(testString):\n",
      "    '''\n",
      "    A method to check if a string can be converted to a number\n",
      "    Not my creation, took it from http://stackoverflow.com/\n",
      "    '''\n",
      "    try:\n",
      "        float(testString)\n",
      "        return True\n",
      "    except ValueError:\n",
      "        return False\n",
      "\n",
      "def loadSurface(pathToSurface):\n",
      "    '''\n",
      "    This method loads the surface from a mgh file and returns it. Pretty simple\n",
      "    stuff\n",
      "    '''\n",
      "    print('Loading %s' % (pathToSurface))\n",
      "    surface = nfs.read_geometry(pathToSurface)\n",
      "    return surface\n",
      "\n",
      "def loadLabel(pathToLabel, drop=2):\n",
      "    '''\n",
      "    load the label text file\n",
      "    '''\n",
      "    f = open(pathToLabel, 'rb')\n",
      "    for i in xrange(drop):\n",
      "        f.readline()\n",
      "    lines = f.readlines()\n",
      "    f.close()\n",
      "\n",
      "    vertices = []\n",
      "    for line in lines:\n",
      "        useLine = line.strip().split()\n",
      "        if isNumber(useLine[0]):\n",
      "            vertices.append(float(useLine[0]))\n",
      "\n",
      "    return lines, vertices"
     ],
     "language": "python",
     "metadata": {},
     "outputs": []
    },
    {
     "cell_type": "markdown",
     "metadata": {},
     "source": [
      "___Functions to calculate distance on surface:___"
     ]
    },
    {
     "cell_type": "code",
     "collapsed": false,
     "input": [
      "def buildGraph(surface, vertices, weighted=True):\n",
      "    '''\n",
      "    This method generates the graph by generating edges between known nodes\n",
      "    and weighting them by their distance\n",
      "    '''\n",
      "    numberVertices = len(surface[0])\n",
      "    vertexLocations = surface[0]\n",
      "    numberTriangles = len(surface[1])\n",
      "    vertexTriangles = surface[1]\n",
      "\n",
      "    # Generate the (empty) Graph\n",
      "    graph = nx.Graph()\n",
      "\n",
      "    # Loop through all the triangles, this is going to include redundant\n",
      "    # edges but we don't care\n",
      "    for triangle in vertexTriangles:\n",
      "        # get the vertices that make up the triangle\n",
      "        vertex1 = triangle[0]\n",
      "        vertex2 = triangle[1]\n",
      "        vertex3 = triangle[2]\n",
      "        if vertex1 in vertices:\n",
      "            if vertex2 in vertices:\n",
      "                if vertex3 in vertices:\n",
      "                    if weighted:\n",
      "                        # get the distances\n",
      "                        distance12 = computeDistance(vertexLocations, vertex1, vertex2)\n",
      "                        distance13 = computeDistance(vertexLocations, vertex1, vertex3)\n",
      "                        distance23 = computeDistance(vertexLocations, vertex2, vertex3)\n",
      "                    else:\n",
      "                        distance12, distance13, distance23 = (1, 1, 1)\n",
      "                # and generate the edges\n",
      "                    graph.add_edge(vertex1, vertex2, weight=distance12)\n",
      "                    graph.add_edge(vertex1, vertex3, weight=distance13)\n",
      "                    graph.add_edge(vertex2, vertex3, weight=distance23)\n",
      "    \n",
      "    return graph, numberVertices\n",
      "\n",
      "def computeDistance(vertexLocations, vertex1, vertex2):\n",
      "    '''\n",
      "    Method computes the distance between two vertices given that their\n",
      "    volumetric coordinates are given in a list that is strictly ordered by\n",
      "    vertex ID\n",
      "    ____\n",
      "    usage: computeDistance(vertexLocations, vertex1, vertex2)\n",
      "    ----\n",
      "    '''\n",
      "    vertex1Loc = vertexLocations[vertex1]\n",
      "    vertex2Loc = vertexLocations[vertex2]\n",
      "    offset = vertex1Loc - vertex2Loc\n",
      "    distance = np.sqrt(np.sum(np.square(offset)))\n",
      "\n",
      "    return distance\n",
      "\n",
      "def makeFullMatrix(vertices, surf, distMask):\n",
      "    '''\n",
      "    Take masked graph and recreate full size matrix\n",
      "    '''\n",
      "    mask = np.sort([int(l) for l in vertices])\n",
      "    dist = np.zeros(shape=(len(surf[0]),len(surf[0])))\n",
      "    for i in range(0,len(mask)):\n",
      "        line = dist[mask[i]]\n",
      "        line[mask] = distMask[i]\n",
      "        dist[mask[i]] = line\n",
      "    \n",
      "    return dist\n",
      "\n"
     ],
     "language": "python",
     "metadata": {},
     "outputs": []
    },
    {
     "cell_type": "markdown",
     "metadata": {},
     "source": [
      "__To run distance calculation:__"
     ]
    },
    {
     "cell_type": "markdown",
     "metadata": {},
     "source": [
      "___Set variables:___"
     ]
    },
    {
     "cell_type": "code",
     "collapsed": false,
     "input": [
      "# Set variables:\n",
      "#fsdir = '/a/software/freesurfer/currentversion/amd64/2.15/subjects'\n",
      "fsdir = '/scr/kalifornien1/data/nki_enhanced' \n",
      "subject_id = 'fsaverage3' \n",
      "hemi = 'lh' "
     ],
     "language": "python",
     "metadata": {},
     "outputs": []
    },
    {
     "cell_type": "markdown",
     "metadata": {},
     "source": [
      "___Run distance calculation:___"
     ]
    },
    {
     "cell_type": "code",
     "collapsed": false,
     "input": [
      "def distCalc(fsdir, subject_id, hemi):\n",
      "    surf = loadSurface(os.path.join(fsdir, subject_id, 'surf', \n",
      "                                    hemi + '.pial'))\n",
      "    lines, vertices = loadLabel(os.path.join(fsdir, subject_id, \n",
      "                        'label', hemi + '.cortex.label'), drop=2)\n",
      "    G, numberVertices = buildGraph(surf, vertices, weighted=True)\n",
      "    distMask = nx.floyd_warshall_numpy(G,nodelist=None)\n",
      "    dist = makeFullMatrix(vertices, surf, distMask)\n",
      "    return dist\n",
      "\n",
      "# Print out time\n",
      "start_time = time.time()\n",
      "dist = distCalc(fsdir, subject_id, hemi)\n",
      "print time.time() - start_time, \"seconds\""
     ],
     "language": "python",
     "metadata": {},
     "outputs": []
    },
    {
     "cell_type": "markdown",
     "metadata": {},
     "source": [
      "___Save output:___"
     ]
    },
    {
     "cell_type": "code",
     "collapsed": false,
     "input": [
      "np.save('/scr/litauen1/topology/' + subject_id + \n",
      "        '.' + hemi + '.npy', dist)"
     ],
     "language": "python",
     "metadata": {},
     "outputs": []
    },
    {
     "cell_type": "markdown",
     "metadata": {},
     "source": [
      "__Visualize results:__"
     ]
    },
    {
     "cell_type": "code",
     "collapsed": false,
     "input": [
      "def plotMatrix(matrix):\n",
      "    plt.imshow(matrix)\n",
      "    plt.show()\n",
      "\n",
      "# Distance matrix:\n",
      "plotMatrix(dist)"
     ],
     "language": "python",
     "metadata": {},
     "outputs": []
    },
    {
     "cell_type": "code",
     "collapsed": false,
     "input": [
      "def vizBrain(data, subject_id='fsaverage3', hemi='lh', surface='inflated', filename='brain.png'):\n",
      "    brain = Brain(subject_id, hemi, surface)\n",
      "    brain.add_data(data, 0, data.max(), colormap=\"hot\", alpha=0.7)\n",
      "    brain.save_montage(filename, order=['lat', 'med'], orientation='h', border_size=10)\n",
      "\n",
      "# Brain surface with distance from node 200:\n",
      "vizBrain(dist[200], subject_id='fsaverage3', hemi='lh', surface='inflated', filename='brain.png')\n",
      "Image(filename='brain.png', width=600)"
     ],
     "language": "python",
     "metadata": {},
     "outputs": []
    },
    {
     "cell_type": "markdown",
     "metadata": {},
     "source": [
      "__Group-level analyses:__"
     ]
    },
    {
     "cell_type": "code",
     "collapsed": false,
     "input": [
      "# Read saved files into single matrix,\n",
      "# with Right and Left hemisphere separate\n",
      "\n",
      "\n",
      "# Read in connectivity matrices\n",
      "\n",
      "\n",
      "# Read in surfaceratio vectors\n",
      "\n",
      "\n",
      "\n"
     ],
     "language": "python",
     "metadata": {},
     "outputs": []
    },
    {
     "cell_type": "heading",
     "level": 3,
     "metadata": {},
     "source": [
      "Miscellaneous notes and attempts to speed up and parallelize computation:"
     ]
    },
    {
     "cell_type": "code",
     "collapsed": false,
     "input": [
      "subject_id = 'fsaverage3' \n",
      "surf = loadSurface(os.path.join(fsdir, subject_id, 'surf', hemi + '.pial'))\n",
      "#lines, vertices = loadLabel(os.path.join(fsdir, subject_id, 'label', hemi + '.cortex.label'), drop=2)\n",
      "#H, numberVertices = buildGraph(surf, vertices, weighted=True)\n",
      "\n",
      "numberVertices = len(surf[0])\n",
      "vertexLocations = surf[0]\n",
      "numberTriangles = len(surf[1])\n",
      "vertexTriangles = surf[1]\n",
      "\n",
      "# Generate the (empty) Graph\n",
      "graph = nx.Graph()\n",
      "\n",
      "# Loop through all the triangles, this is going to include redundant\n",
      "# edges but we don't care\n",
      "#vertexTriangles[:,0]\n",
      "#np.sqrt(np.sum(np.square(vertexLocations[vertexTriangles[:,0]]-vertexLocations[vertexTriangles[:,1]]),axis=1))\n",
      "#weight=np.sqrt(np.sum(np.square(vertexLocations[vertexTriangles[:,0]]-vertexLocations[vertexTriangles[:,1]])))\n",
      "#print(weight)\n",
      "\n",
      "#sets = [0,1];[0,2];[1,2]\n",
      "#for i in range(0,2):\n",
      "    #weight = (np.sqrt(np.sum(np.square(vertexLocations[vertexTriangles[:,sets[i,0]]]-vertexLocations[vertexTriangles[:,sets[i,1]]]),axis=1)))\n",
      "\n",
      "#sets(0,0)\n",
      "\n",
      "#shape(vertexTriangles[:,0])\n",
      "#graph.add_edge(vertexTriangles[:,0], vertexTriangles[:,1], weight=np.sqrt(np.sum(np.square(vertexLocations[vertexTriangles[:,0]]-vertexLocations[vertexTriangles[:,1]]),axis=1)))\n",
      "#graph.add_edge(vertexTriangles[:,0], vertexTriangles[:,2], weight=np.sqrt(np.sum(np.square(vertexLocations[vertexTriangles[:,0]]-vertexLocations[vertexTriangles[:,2]]),axis=1)))\n",
      "#graph.add_edge(vertexTriangles[:,1], vertexTriangles[:,2], weight=np.sqrt(np.sum(np.square(vertexLocations[vertexTriangles[:,1]]-vertexLocations[vertexTriangles[:,2]]),axis=1)))\n",
      "\n",
      "\n",
      "def runIt(vert):\n",
      "    out = nx.single_source_dijkstra_path_length(G, vert, cutoff=None, weight= 'weight')\n",
      "    return out\n",
      "\n",
      "\n",
      "\n",
      "#distMask = nx.floyd_warshall_numpy(G,nodelist=None)\n",
      "#dist = Parallel(n_jobs=6)(delayed(nx.single_source_dijkstra_path_length)(G, i, cutoff= None, weight= 'weight') for i in vertices)\n",
      "#import multiprocessing\n",
      "#pool = multiprocessing.Pool(6)\n",
      "#dist = pool.map(nx.single_source_dijkstra_path_length(G, i, cutoff=None, weight= 'weight'), vertices)\n",
      "\n",
      "#for i in vertices:\n",
      "    #dist[i] = nx.single_source_dijkstra_path_length(G, i, cutoff= None, weight= 'weight')    \n"
     ],
     "language": "python",
     "metadata": {},
     "outputs": []
    },
    {
     "cell_type": "code",
     "collapsed": false,
     "input": [
      "start_time = time.time()\n",
      "from multiprocessing import Pool\n",
      "from multiprocessing.dummy import Pool as ThreadPool \n",
      "pool = ThreadPool(7) # Sets the pool size to 4\n",
      "dist = []\n",
      "dist = pool.map(runIt,vertices)\n",
      "pool.close()\n",
      "pool.join()\n",
      "print time.time() - start_time, \"seconds\""
     ],
     "language": "python",
     "metadata": {},
     "outputs": []
    },
    {
     "cell_type": "code",
     "collapsed": false,
     "input": [
      "def buildGraphNew(surf, vertices, weighted=True):\n",
      "    '''\n",
      "    This method generates the graph by generating edges between known nodes\n",
      "    and weighting them by their distance\n",
      "    '''\n",
      "    numberVertices = len(surf[0])\n",
      "    vertexLocations = surf[0]\n",
      "    numberTriangles = len(surf[1])\n",
      "    vertexTriangles = surf[1]\n",
      "\n",
      "    # Generate the (empty) Graph\n",
      "    graph = nx.Graph()\n",
      "\n",
      "    # Loop through all the triangles, this is going to include redundant\n",
      "    # edges but we don't care\n",
      "    \n",
      "    graph.add_edge(vertexTriangles[:,0], vertexTriangles[:,1], weight=np.sqrt(np.sum(np.square(vertexLocations[vertexTriangles[:,0]]-vertexLocations[vertexTriangles[:,1]]))))\n",
      "    graph.add_edge(vertexTriangles[:,0], vertexTriangles[:,2], weight=np.sqrt(np.sum(np.square(vertexLocations[vertexTriangles[:,0]]-vertexLocations[vertexTriangles[:,2]]))))\n",
      "    graph.add_edge(vertexTriangles[:,1], vertexTriangles[:,2], weight=np.sqrt(np.sum(np.square(vertexLocations[vertexTriangles[:,1]]-vertexLocations[vertexTriangles[:,2]]))))\n",
      "    \n",
      "    for triangle in vertexTriangles:\n",
      "        # get the vertices that make up the triangle\n",
      "        #vertex1 = triangle[0]\n",
      "        #vertex2 = triangle[1]\n",
      "        #vertex3 = triangle[2]\n",
      "        if triangle[0] in vertices:\n",
      "            if triangle[1] in vertices:\n",
      "                if triangle[2] in vertices:\n",
      "                    graph.add_edge(triangle[0], triangle[1], weight=np.sqrt(np.sum(np.square(vertexLocations[triangle[0]]-vertexLocations[triangle[1]]))))\n",
      "                    graph.add_edge(triangle[0], triangle[2], weight=np.sqrt(np.sum(np.square(vertexLocations[triangle[0]]-vertexLocations[triangle[2]]))))\n",
      "                    graph.add_edge(triangle[1], triangle[2], weight=np.sqrt(np.sum(np.square(vertexLocations[triangle[1]]-vertexLocations[triangle[2]]))))\n",
      "       \n",
      "         #           if weighted:\n",
      "                        # get the distances\n",
      "         #               distance12 = computeDistance(vertexLocations, vertex1, vertex2)\n",
      "         #               distance13 = computeDistance(vertexLocations, vertex1, vertex3)\n",
      "         #               distance23 = computeDistance(vertexLocations, vertex2, vertex3)\n",
      "         #           else:\n",
      "         #               distance12, distance13, distance23 = (1, 1, 1)\n",
      "            \n",
      "                     \n",
      "                    # and generate the edges\n",
      "         #           graph.add_edge(vertex1, vertex2, weight=distance12)\n",
      "         #           graph.add_edge(vertex1, vertex3, weight=distance13)\n",
      "         #           graph.add_edge(vertex2, vertex3, weight=distance23)\n",
      "        \n",
      "    \n",
      "    return graph, numberVertices"
     ],
     "language": "python",
     "metadata": {},
     "outputs": []
    }
   ],
   "metadata": {}
  }
 ]
}